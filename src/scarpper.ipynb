{
 "cells": [
  {
   "attachments": {},
   "cell_type": "markdown",
   "id": "614ea922",
   "metadata": {},
   "source": [
    "__Import Libraries__ "
   ]
  },
  {
   "cell_type": "code",
   "execution_count": 1,
   "id": "radio-reminder",
   "metadata": {},
   "outputs": [],
   "source": [
    "from selenium.common.exceptions import NoSuchElementException, ElementClickInterceptedException\n",
    "from selenium import webdriver\n",
    "import time\n",
    "import pandas as pd\n",
    "from selenium.webdriver.common.by import By\n",
    "from getDataframe import getDataframe\n",
    "import numpy as np\n"
   ]
  },
  {
   "attachments": {},
   "cell_type": "markdown",
   "id": "72a970c6",
   "metadata": {},
   "source": [
    "__Defined Class and Methods__ "
   ]
  },
  {
   "cell_type": "code",
   "execution_count": 2,
   "id": "bed0af15",
   "metadata": {},
   "outputs": [],
   "source": [
    "class scrapper:\n",
    "    ##### Scrapper Accepts the #####\n",
    "    ##### ** Keyword ** which will be JOB ROLE #####\n",
    "    ##### ** location ** which will be location of interest i.e. India #####\n",
    "    ##### ** Page ** Total number of Pages you would like to scrap #####\n",
    "\n",
    "    def __init__(self, keyword, location, page):\n",
    "        self.keyword = keyword\n",
    "        self.location = location\n",
    "        self.page = page\n",
    "\n",
    "    def getJobDesc(self):\n",
    "        path = \"E:/Workspace/gis_salary_proj/chromedriver\"\n",
    "        options = webdriver.ChromeOptions()\n",
    "        driver = webdriver.Chrome(executable_path=path, options=options)\n",
    "        driver.set_window_size(1120, 1000)\n",
    "        job_desc = []\n",
    "        url = f\"https://in.indeed.com/jobs?q={self.keyword}&l={self.location} \\\n",
    "            &start={self.page}0&pp=gQAPAAABhjpfH0EAAAAB-HMzigAdAQA9j26Kn2PmZeS6I04EDTkITNq89HjrpZMf1aYAAA&vjk=f71c00e996a2405e\"\n",
    "        driver.get(url)\n",
    "        driver.implicitly_wait(20)\n",
    "        try:\n",
    "            job_description = driver.find_element(\n",
    "                By.ID, \"mosaic-provider-jobcards\").text\n",
    "            job_desc.append(job_description)\n",
    "        except ElementClickInterceptedException as ee:\n",
    "            print(ee)\n",
    "        return job_description\n",
    "\n",
    "    def cleanData(self):\n",
    "        job_description = [i.split(\"\\n\")\n",
    "                           for i in self.getJobDesc().split(\"days ago\")]\n",
    "        job_cards = [i[1:-2] for i in job_description[1:]]\n",
    "        job_cards.append(job_description[0])\n",
    "        return job_cards\n"
   ]
  },
  {
   "cell_type": "code",
   "execution_count": 3,
   "id": "aa5c5dae",
   "metadata": {},
   "outputs": [
    {
     "name": "stderr",
     "output_type": "stream",
     "text": [
      "C:\\Users\\Asus\\AppData\\Local\\Temp\\ipykernel_24812\\1790226680.py:15: DeprecationWarning: executable_path has been deprecated, please pass in a Service object\n",
      "  driver = webdriver.Chrome(executable_path=path, options=options)\n"
     ]
    }
   ],
   "source": [
    "jobs_all_pages = []\n",
    "pages = 30\n",
    "for page in range(pages):\n",
    "    foo = scrapper(location=\"India\", keyword=\"GIS Developer\", page=page)\n",
    "    jobs_all_pages.append(foo.cleanData())\n",
    "df = getDataframe(jobs_all_pages)\n"
   ]
  },
  {
   "cell_type": "code",
   "execution_count": 2,
   "id": "25c53219",
   "metadata": {},
   "outputs": [
    {
     "ename": "NameError",
     "evalue": "name 'df' is not defined",
     "output_type": "error",
     "traceback": [
      "\u001b[1;31m---------------------------------------------------------------------------\u001b[0m",
      "\u001b[1;31mNameError\u001b[0m                                 Traceback (most recent call last)",
      "Cell \u001b[1;32mIn [2], line 1\u001b[0m\n\u001b[1;32m----> 1\u001b[0m df\u001b[39m.\u001b[39mto_parquet(\u001b[39m\"\u001b[39m\u001b[39m/Workspace/GIS/gis_salary_proj/data/job_data_refined.parquet\u001b[39m\u001b[39m\"\u001b[39m)\n",
      "\u001b[1;31mNameError\u001b[0m: name 'df' is not defined"
     ]
    }
   ],
   "source": [
    "df.to_parquet(\"/Workspace/GIS/gis_salary_proj/data/job_data_refined.parquet\")"
   ]
  },
  {
   "cell_type": "code",
   "execution_count": null,
   "id": "05ecdb30",
   "metadata": {},
   "outputs": [],
   "source": []
  }
 ],
 "metadata": {
  "kernelspec": {
   "display_name": "gis",
   "language": "python",
   "name": "python3"
  },
  "language_info": {
   "codemirror_mode": {
    "name": "ipython",
    "version": 3
   },
   "file_extension": ".py",
   "mimetype": "text/x-python",
   "name": "python",
   "nbconvert_exporter": "python",
   "pygments_lexer": "ipython3",
   "version": "3.8.13"
  },
  "vscode": {
   "interpreter": {
    "hash": "948fee5aab0d99d35e662fd34197410a1ed495babebbcb81a8ad6f912c37b7a4"
   }
  }
 },
 "nbformat": 4,
 "nbformat_minor": 5
}
