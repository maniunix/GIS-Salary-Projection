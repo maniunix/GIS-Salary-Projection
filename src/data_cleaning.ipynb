{
 "cells": [
  {
   "attachments": {},
   "cell_type": "markdown",
   "metadata": {},
   "source": [
    "__Import Libraries__"
   ]
  },
  {
   "cell_type": "code",
   "execution_count": 245,
   "metadata": {},
   "outputs": [],
   "source": [
    "import pandas as pd\n",
    "import matplotlib.pyplot as plt\n",
    "import numpy as np"
   ]
  },
  {
   "cell_type": "code",
   "execution_count": 285,
   "metadata": {},
   "outputs": [
    {
     "data": {
      "text/html": [
       "<div>\n",
       "<style scoped>\n",
       "    .dataframe tbody tr th:only-of-type {\n",
       "        vertical-align: middle;\n",
       "    }\n",
       "\n",
       "    .dataframe tbody tr th {\n",
       "        vertical-align: top;\n",
       "    }\n",
       "\n",
       "    .dataframe thead th {\n",
       "        text-align: right;\n",
       "    }\n",
       "</style>\n",
       "<table border=\"1\" class=\"dataframe\">\n",
       "  <thead>\n",
       "    <tr style=\"text-align: right;\">\n",
       "      <th></th>\n",
       "      <th>Location</th>\n",
       "      <th>Company</th>\n",
       "      <th>Salary</th>\n",
       "      <th>Job Role</th>\n",
       "    </tr>\n",
       "  </thead>\n",
       "  <tbody>\n",
       "    <tr>\n",
       "      <th>0</th>\n",
       "      <td>Bhubaneshwar, Orissa</td>\n",
       "      <td>Triconn Solutions</td>\n",
       "      <td>₹30,000 - ₹50,000 a month</td>\n",
       "      <td>GIS Developer</td>\n",
       "    </tr>\n",
       "    <tr>\n",
       "      <th>1</th>\n",
       "      <td>Bengaluru, Karnataka</td>\n",
       "      <td>Recrumart</td>\n",
       "      <td>₹5,00,000 - ₹11,00,000 a year</td>\n",
       "      <td>GIS Developer(JavaScript Environment)</td>\n",
       "    </tr>\n",
       "    <tr>\n",
       "      <th>2</th>\n",
       "      <td>Bhopal, Madhya Pradesh</td>\n",
       "      <td>Actics Technologies Pvt. Ltd.</td>\n",
       "      <td>₹10,00,000 - ₹14,00,000 a year</td>\n",
       "      <td>GIS Developer</td>\n",
       "    </tr>\n",
       "    <tr>\n",
       "      <th>3</th>\n",
       "      <td>Noida, Uttar Pradesh</td>\n",
       "      <td>AHRC Pvt Ltd</td>\n",
       "      <td>Up to ₹8,00,000 a year</td>\n",
       "      <td>GIS Developer</td>\n",
       "    </tr>\n",
       "    <tr>\n",
       "      <th>4</th>\n",
       "      <td>Noida, Uttar Pradesh</td>\n",
       "      <td>Apogee GNSS Pvt. Ltd.</td>\n",
       "      <td>₹5,00,000 - ₹12,00,000 a year</td>\n",
       "      <td>Senior Java Developer</td>\n",
       "    </tr>\n",
       "  </tbody>\n",
       "</table>\n",
       "</div>"
      ],
      "text/plain": [
       "                 Location                        Company  \\\n",
       "0    Bhubaneshwar, Orissa              Triconn Solutions   \n",
       "1    Bengaluru, Karnataka                      Recrumart   \n",
       "2  Bhopal, Madhya Pradesh  Actics Technologies Pvt. Ltd.   \n",
       "3    Noida, Uttar Pradesh                   AHRC Pvt Ltd   \n",
       "4    Noida, Uttar Pradesh          Apogee GNSS Pvt. Ltd.   \n",
       "\n",
       "                           Salary                               Job Role  \n",
       "0       ₹30,000 - ₹50,000 a month                          GIS Developer  \n",
       "1   ₹5,00,000 - ₹11,00,000 a year  GIS Developer(JavaScript Environment)  \n",
       "2  ₹10,00,000 - ₹14,00,000 a year                          GIS Developer  \n",
       "3          Up to ₹8,00,000 a year                          GIS Developer  \n",
       "4   ₹5,00,000 - ₹12,00,000 a year                  Senior Java Developer  "
      ]
     },
     "execution_count": 285,
     "metadata": {},
     "output_type": "execute_result"
    }
   ],
   "source": [
    "df_path = \"E:/Workspace/GIS/gis_salary_proj/data/job_data.parquet\"\n",
    "df = pd.read_parquet(df_path).drop_duplicates(subset=['Company']).reset_index(drop=True)\n",
    "df.head()"
   ]
  },
  {
   "attachments": {},
   "cell_type": "markdown",
   "metadata": {},
   "source": [
    "__1st Step to Clean the data is to convert per month salary to Year Salay__"
   ]
  },
  {
   "cell_type": "code",
   "execution_count": 301,
   "metadata": {},
   "outputs": [],
   "source": [
    "def monthSalaryConvert(salary):\n",
    "    salary_range_1 = int(salary.replace(\"₹\",\"\").strip(\"a month\").replace(\"-\",\"\").split(\" \")[0].replace(\",\",\"\")) * 12\n",
    "    salary_range_2 = int(salary.replace(\"₹\",\"\").strip(\"a month\").replace(\"-\",\"\").split(\" \")[-1].replace(\",\",\"\")) * 12\n",
    "    return f\"{salary_range_1}-{salary_range_2} a year\"\n"
   ]
  },
  {
   "cell_type": "code",
   "execution_count": 297,
   "metadata": {},
   "outputs": [],
   "source": [
    "month_salary = []\n",
    "month_index = []\n",
    "for i,x in enumerate(df.Salary):\n",
    "    if \"month\" in x and len(x) >= 25:\n",
    "        month_salary.append(monthSalaryConvert(x))\n",
    "        month_index.append(i)\n",
    "    elif \"From\" in x and \"month\" in x:\n",
    "        sal = int(x.split(\" \")[1].replace(\"₹\",\"\").replace(\",\",\"\")) * 12\n",
    "        month_salary.append(f\"{sal} a year\")\n",
    "        month_index.append(i)\n",
    "    elif \"a month\" in x:\n",
    "        sal = int(x.split(\" \")[0].replace(\"₹\",\"\").replace(\",\",\"\")) * 12\n",
    "        month_salary.append(f\"{sal} a year\")\n",
    "        month_index.append(i)\n",
    "        "
   ]
  },
  {
   "cell_type": "code",
   "execution_count": 302,
   "metadata": {},
   "outputs": [],
   "source": [
    "df.Salary[month_index] = month_salary"
   ]
  }
 ],
 "metadata": {
  "kernelspec": {
   "display_name": "gis",
   "language": "python",
   "name": "python3"
  },
  "language_info": {
   "codemirror_mode": {
    "name": "ipython",
    "version": 3
   },
   "file_extension": ".py",
   "mimetype": "text/x-python",
   "name": "python",
   "nbconvert_exporter": "python",
   "pygments_lexer": "ipython3",
   "version": "3.8.13"
  },
  "orig_nbformat": 4,
  "vscode": {
   "interpreter": {
    "hash": "948fee5aab0d99d35e662fd34197410a1ed495babebbcb81a8ad6f912c37b7a4"
   }
  }
 },
 "nbformat": 4,
 "nbformat_minor": 2
}
